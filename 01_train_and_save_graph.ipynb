{
 "cells": [
  {
   "cell_type": "markdown",
   "metadata": {
    "collapsed": true
   },
   "source": [
    "# Saving a Graph in TensorFlow"
   ]
  },
  {
   "cell_type": "code",
   "execution_count": 1,
   "metadata": {},
   "outputs": [],
   "source": [
    "import tensorflow as tf\n",
    "import numpy as np"
   ]
  },
  {
   "cell_type": "markdown",
   "metadata": {},
   "source": [
    "We create a simple graph that contains a simple linear regression routine."
   ]
  },
  {
   "cell_type": "code",
   "execution_count": 2,
   "metadata": {},
   "outputs": [],
   "source": [
    "tf_x = tf.placeholder(dtype=tf.float32, name=\"x\")\n",
    "tf_y = tf.placeholder(dtype=tf.float32, name=\"y\")\n",
    "\n",
    "# A simple graph with two operations \n",
    "a = tf.Variable(5.0, dtype=tf.float32, name=\"a\")\n",
    "b = tf.Variable(0.0, dtype=tf.float32, name=\"b\")\n",
    "y_hat = tf.add(tf.multiply(tf_x, a), b, name=\"regression\")\n",
    "\n",
    "loss = tf.subtract(y_hat, tf_y) ** 2\n",
    "loss = tf.reduce_mean(loss)\n",
    "\n",
    "ao = tf.train.AdamOptimizer(learning_rate=1e-2, name=\"Adam_0\")\n",
    "train_step = ao.minimize(loss)"
   ]
  },
  {
   "cell_type": "markdown",
   "metadata": {},
   "source": [
    "Observe that `y_hat` is a Tensor.  However, there is also an underlying operation associated with it."
   ]
  },
  {
   "cell_type": "code",
   "execution_count": 3,
   "metadata": {},
   "outputs": [
    {
     "name": "stdout",
     "output_type": "stream",
     "text": [
      "Tensor(\"regression:0\", dtype=float32)\nTensor(\"regression:0\", dtype=float32)\nname: \"regression\"\nop: \"Add\"\ninput: \"Mul\"\ninput: \"b/read\"\nattr {\n  key: \"T\"\n  value {\n    type: DT_FLOAT\n  }\n}\n\n"
     ]
    }
   ],
   "source": [
    "graph = tf.get_default_graph()\n",
    "\n",
    "print(y_hat)\n",
    "print(graph.get_tensor_by_name(\"regression:0\"))\n",
    "print(graph.get_operation_by_name(\"regression\"))"
   ]
  },
  {
   "cell_type": "markdown",
   "metadata": {},
   "source": [
    "Create savers for the variables in each scope and save."
   ]
  },
  {
   "cell_type": "code",
   "execution_count": 4,
   "metadata": {},
   "outputs": [
    {
     "name": "stdout",
     "output_type": "stream",
     "text": [
      "[INFO] Starting epoch 0\n[INFO] Loss at step 0: 79.93203735351562\n[INFO] Starting epoch 1\n[INFO] Loss at step 0: 36.86960220336914\n[INFO] Starting epoch 2\n[INFO] Loss at step 0: 22.095134735107422\n[INFO] Starting epoch 3\n[INFO] Loss at step 0: 64.9883041381836\n[INFO] Starting epoch 4\n[INFO] Loss at step 0: 56.13421630859375\n[INFO] Starting epoch 5\n[INFO] Loss at step 0: 18.155813217163086\n[INFO] Starting epoch 6\n[INFO] Loss at step 0: 35.20868682861328\n[INFO] Starting epoch 7\n[INFO] Loss at step 0: 54.5970573425293\n[INFO] Starting epoch 8\n[INFO] Loss at step 0: 10.021286964416504\n[INFO] Starting epoch 9\n[INFO] Loss at step 0: 28.17657470703125\n[INFO] Starting epoch 10\n[INFO] Loss at step 0: 53.135215759277344\n[INFO] Starting epoch 11\n[INFO] Loss at step 0: 23.72880744934082\n[INFO] Starting epoch 12\n[INFO] Loss at step 0: 37.22800064086914\n[INFO] Starting epoch 13\n[INFO] Loss at step 0: 19.732500076293945\n[INFO] Starting epoch 14\n[INFO] Loss at step 0: 24.243885040283203\n[INFO] Starting epoch 15\n[INFO] Loss at step 0: 24.9240665435791\n[INFO] Starting epoch 16\n[INFO] Loss at step 0: 48.8845100402832\n[INFO] Starting epoch 17\n[INFO] Loss at step 0: 28.219951629638672\n[INFO] Starting epoch 18\n[INFO] Loss at step 0: 26.736629486083984\n[INFO] Starting epoch 19\n[INFO] Loss at step 0: 33.49779510498047\n[INFO] Starting epoch 20\n[INFO] Loss at step 0: 27.575847625732422\n[INFO] Starting epoch 21\n[INFO] Loss at step 0: 43.6934928894043\n[INFO] Starting epoch 22\n[INFO] Loss at step 0: 22.759017944335938\n[INFO] Starting epoch 23\n[INFO] Loss at step 0: 17.07068634033203\n[INFO] Starting epoch 24\n[INFO] Loss at step 0: 28.939254760742188\n[INFO] Starting epoch 25\n[INFO] Loss at step 0: 22.0362491607666\n[INFO] Starting epoch 26\n[INFO] Loss at step 0: 7.225281715393066\n[INFO] Starting epoch 27\n[INFO] Loss at step 0: 14.728254318237305\n[INFO] Starting epoch 28\n[INFO] Loss at step 0: 19.422565460205078\n[INFO] Starting epoch 29\n[INFO] Loss at step 0: 9.583178520202637\n[INFO] Starting epoch 30\n[INFO] Loss at step 0: 17.468698501586914\n[INFO] Starting epoch 31\n[INFO] Loss at step 0: 6.723089694976807\n[INFO] Starting epoch 32\n[INFO] Loss at step 0: 8.748361587524414\n[INFO] Starting epoch 33\n[INFO] Loss at step 0: 26.422616958618164\n[INFO] Starting epoch 34\n[INFO] Loss at step 0: 11.654220581054688\n[INFO] Starting epoch 35\n[INFO] Loss at step 0: 7.861071586608887\n[INFO] Starting epoch 36\n[INFO] Loss at step 0: 7.136438846588135\n[INFO] Starting epoch 37\n[INFO] Loss at step 0: 12.49372673034668\n[INFO] Starting epoch 38\n[INFO] Loss at step 0: 10.730385780334473\n[INFO] Starting epoch 39\n[INFO] Loss at step 0: 6.745752811431885\n[INFO] Starting epoch 40\n[INFO] Loss at step 0: 9.534711837768555\n[INFO] Starting epoch 41\n[INFO] Loss at step 0: 9.4405517578125\n[INFO] Starting epoch 42\n[INFO] Loss at step 0: 6.811593532562256\n[INFO] Starting epoch 43\n"
     ]
    },
    {
     "name": "stdout",
     "output_type": "stream",
     "text": [
      "[INFO] Loss at step 0: 8.54899787902832\n[INFO] Starting epoch 44\n[INFO] Loss at step 0: 1.5278162956237793\n[INFO] Starting epoch 45\n[INFO] Loss at step 0: 10.028979301452637\n[INFO] Starting epoch 46\n[INFO] Loss at step 0: 5.936402797698975\n[INFO] Starting epoch 47\n[INFO] Loss at step 0: 3.502058506011963\n[INFO] Starting epoch 48\n[INFO] Loss at step 0: 2.842005968093872\n[INFO] Starting epoch 49\n[INFO] Loss at step 0: 6.899094581604004\n[INFO] Starting epoch 50\n[INFO] Loss at step 0: 1.2512470483779907\n[INFO] Starting epoch 51\n[INFO] Loss at step 0: 7.604618072509766\n[INFO] Starting epoch 52\n[INFO] Loss at step 0: 6.413857936859131\n[INFO] Starting epoch 53\n[INFO] Loss at step 0: 8.134225845336914\n[INFO] Starting epoch 54\n[INFO] Loss at step 0: 6.251461029052734\n[INFO] Starting epoch 55\n[INFO] Loss at step 0: 7.357481479644775\n[INFO] Starting epoch 56\n[INFO] Loss at step 0: 7.856961250305176\n[INFO] Starting epoch 57\n[INFO] Loss at step 0: 6.9442853927612305\n[INFO] Starting epoch 58\n[INFO] Loss at step 0: 4.1629157066345215\n[INFO] Starting epoch 59\n[INFO] Loss at step 0: 5.768580913543701\n[INFO] Starting epoch 60\n[INFO] Loss at step 0: 4.2653398513793945\n[INFO] Starting epoch 61\n[INFO] Loss at step 0: 2.2757914066314697\n[INFO] Starting epoch 62\n[INFO] Loss at step 0: 3.1816582679748535\n[INFO] Starting epoch 63\n[INFO] Loss at step 0: 3.7498016357421875\n[INFO] Starting epoch 64\n[INFO] Loss at step 0: 0.8976579904556274\n[INFO] Starting epoch 65\n[INFO] Loss at step 0: 1.6854873895645142\n[INFO] Starting epoch 66\n[INFO] Loss at step 0: 3.894448757171631\n[INFO] Starting epoch 67\n[INFO] Loss at step 0: 1.2275984287261963\n[INFO] Starting epoch 68\n[INFO] Loss at step 0: 1.193300485610962\n[INFO] Starting epoch 69\n[INFO] Loss at step 0: 1.7764676809310913\n[INFO] Starting epoch 70\n[INFO] Loss at step 0: 3.582064151763916\n[INFO] Starting epoch 71\n[INFO] Loss at step 0: 3.4612033367156982\n[INFO] Starting epoch 72\n[INFO] Loss at step 0: 2.3702852725982666\n[INFO] Starting epoch 73\n[INFO] Loss at step 0: 2.061645030975342\n[INFO] Starting epoch 74\n[INFO] Loss at step 0: 2.2200493812561035\n[INFO] Starting epoch 75\n[INFO] Loss at step 0: 1.7052886486053467\n[INFO] Starting epoch 76\n[INFO] Loss at step 0: 1.82211434841156\n[INFO] Starting epoch 77\n[INFO] Loss at step 0: 1.1351778507232666\n[INFO] Starting epoch 78\n[INFO] Loss at step 0: 0.41267529129981995\n[INFO] Starting epoch 79\n[INFO] Loss at step 0: 1.9460872411727905\n[INFO] Starting epoch 80\n[INFO] Loss at step 0: 2.4408247470855713\n[INFO] Starting epoch 81\n[INFO] Loss at step 0: 2.4073867797851562\n[INFO] Starting epoch 82\n[INFO] Loss at step 0: 0.8056468963623047\n[INFO] Starting epoch 83\n[INFO] Loss at step 0: 0.7473028898239136\n[INFO] Starting epoch 84\n[INFO] Loss at step 0: 3.1712169647216797\n[INFO] Starting epoch 85\n[INFO] Loss at step 0: 1.1712409257888794\n[INFO] Starting epoch 86\n[INFO] Loss at step 0: 0.6179407835006714\n[INFO] Starting epoch 87\n[INFO] Loss at step 0: 1.2670798301696777\n[INFO] Starting epoch 88\n[INFO] Loss at step 0: 1.1292555332183838\n[INFO] Starting epoch 89\n[INFO] Loss at step 0: 1.2891428470611572\n"
     ]
    },
    {
     "name": "stdout",
     "output_type": "stream",
     "text": [
      "[INFO] Starting epoch 90\n[INFO] Loss at step 0: 1.120622158050537\n[INFO] Starting epoch 91\n[INFO] Loss at step 0: 0.7513278126716614\n[INFO] Starting epoch 92\n[INFO] Loss at step 0: 1.7295621633529663\n[INFO] Starting epoch 93\n[INFO] Loss at step 0: 1.9745585918426514\n[INFO] Starting epoch 94\n[INFO] Loss at step 0: 0.7419994473457336\n[INFO] Starting epoch 95\n[INFO] Loss at step 0: 1.1051729917526245\n[INFO] Starting epoch 96\n[INFO] Loss at step 0: 1.2950689792633057\n[INFO] Starting epoch 97\n[INFO] Loss at step 0: 1.5700396299362183\n[INFO] Starting epoch 98\n[INFO] Loss at step 0: 2.115583896636963\n[INFO] Starting epoch 99\n[INFO] Loss at step 0: 0.7644222378730774\n[9.745913, 4.7164893]\n"
     ]
    }
   ],
   "source": [
    "reg_saver = tf.train.Saver()\n",
    "\n",
    "with tf.Session() as sess:\n",
    "    # initialize the variables\n",
    "    sess.run(tf.global_variables_initializer())\n",
    "    \n",
    "    # save the initial graph\n",
    "    reg_saver.save(sess, \"/Users/patrickmedina/Desktop/regression/model\", 0)\n",
    "    \n",
    "    # generate the data\n",
    "    x = np.random.normal(size=(100, ))\n",
    "    y = 10 * x + 5 + np.random.normal(size=(100, ))\n",
    "    \n",
    "    idx = np.arange(100)\n",
    "    for ep in range(100):\n",
    "        print(\"[INFO] Starting epoch {}\".format(ep))\n",
    "        np.random.shuffle(idx)\n",
    "        x = x[idx]\n",
    "        y = y[idx]\n",
    "        \n",
    "        for i in range(10):\n",
    "            start = 10 * i\n",
    "            stop = start + 10\n",
    "            l, _ = sess.run([loss, train_step], feed_dict={tf_x: x[start:stop], tf_y: y[start:stop]})\n",
    "            \n",
    "            if i % 10 == 0:\n",
    "                print(\"[INFO] Loss at step {0}: {1}\".format(i, l))\n",
    "                \n",
    "    reg_saver.save(sess, \"/Users/patrickmedina/Desktop/regression/model\", ep * i)\n",
    "    print(sess.run([a, b]))"
   ]
  },
  {
   "cell_type": "code",
   "execution_count": null,
   "metadata": {},
   "outputs": [],
   "source": []
  }
 ],
 "metadata": {
  "kernelspec": {
   "display_name": "Python 2",
   "language": "python",
   "name": "python2"
  },
  "language_info": {
   "codemirror_mode": {
    "name": "ipython",
    "version": 2
   },
   "file_extension": ".py",
   "mimetype": "text/x-python",
   "name": "python",
   "nbconvert_exporter": "python",
   "pygments_lexer": "ipython2",
   "version": "2.7.6"
  }
 },
 "nbformat": 4,
 "nbformat_minor": 0
}
