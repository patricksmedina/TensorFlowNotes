{
 "cells": [
  {
   "cell_type": "markdown",
   "metadata": {},
   "source": [
    "# Loading and Re-training a TensorFlow Model"
   ]
  },
  {
   "cell_type": "markdown",
   "metadata": {},
   "source": [
    "Load the part of the graph that contains the add routine.  Add another regression layer to the graph.  We will train the additional regression step later."
   ]
  },
  {
   "cell_type": "code",
   "execution_count": 2,
   "metadata": {
    "collapsed": true
   },
   "outputs": [],
   "source": [
    "import tensorflow as tf\n",
    "\n",
    "reg_saver = tf.train.import_meta_graph('/Users/patrickmedina/Desktop/regression/model-891.meta')\n",
    "graph = tf.get_default_graph()\n",
    "\n",
    "tf_x = graph.get_tensor_by_name(\"x:0\")\n",
    "tf_y = graph.get_tensor_by_name(\"y:0\")\n",
    "y_hat = graph.get_tensor_by_name(\"regression:0\")\n",
    "\n",
    "# extend the graph\n",
    "a_1 = tf.Variable(0.5, dtype=tf.float32, name=\"a_1\")\n",
    "b_1 = tf.Variable(0.0, dtype=tf.float32, name=\"b_1\")\n",
    "y_hat_2 = tf.add(tf.multiply(a_1, y_hat), b_1, name=\"regression_2\")\n",
    "\n",
    "# define a new loss function\n",
    "loss = tf.subtract(y_hat_2, tf_y) ** 2\n",
    "loss = tf.reduce_mean(loss)\n",
    "\n",
    "ao = tf.train.AdamOptimizer(learning_rate=1e-2, name='Adam_2')\n",
    "ts = ao.minimize(loss)\n"
   ]
  },
  {
   "cell_type": "markdown",
   "metadata": {},
   "source": [
    "We can reload the variables from the initial training and run inference on the first graph."
   ]
  },
  {
   "cell_type": "code",
   "execution_count": 3,
   "metadata": {},
   "outputs": [
    {
     "name": "stdout",
     "output_type": "stream",
     "text": [
      "INFO:tensorflow:Restoring parameters from /Users/patrickmedina/Desktop/regression/model-891\n"
     ]
    },
    {
     "name": "stdout",
     "output_type": "stream",
     "text": [
      "[INFO] Prediction for value 0 is 4.817059.  The true value for 0 is 5.\n"
     ]
    }
   ],
   "source": [
    "sess = tf.Session()\n",
    "reg_saver.restore(sess, \"/Users/patrickmedina/Desktop/regression/model-891\")\n",
    "result = sess.run(y_hat, feed_dict={tf_x: [0], tf_y: [0]})[0]\n",
    "print(\"[INFO] Prediction for value 0 is {0:4f}.  The true value for 0 is 5.\".format(result))"
   ]
  },
  {
   "cell_type": "markdown",
   "metadata": {},
   "source": [
    "We can initialize the variables for the remaining parts of the graph and perform inference on the extended model."
   ]
  },
  {
   "cell_type": "code",
   "execution_count": 4,
   "metadata": {},
   "outputs": [
    {
     "name": "stdout",
     "output_type": "stream",
     "text": [
      "[0.]\n"
     ]
    }
   ],
   "source": [
    "sess.run(tf.global_variables_initializer())\n",
    "result = sess.run(y_hat_2, feed_dict={tf_x: [0], tf_y: [0]})\n",
    "print(result)"
   ]
  },
  {
   "cell_type": "code",
   "execution_count": 5,
   "metadata": {},
   "outputs": [
    {
     "name": "stdout",
     "output_type": "stream",
     "text": [
      "[INFO] Starting epoch 0\n[INFO] Loss at step 0: 88.03340911865234\n[INFO] Starting epoch 1\n[INFO] Loss at step 0: 120.70565032958984\n[INFO] Starting epoch 2\n[INFO] Loss at step 0: 36.99068069458008\n[INFO] Starting epoch 3\n[INFO] Loss at step 0: 36.51053237915039\n[INFO] Starting epoch 4\n[INFO] Loss at step 0: 97.08419036865234\n[INFO] Starting epoch 5\n[INFO] Loss at step 0: 74.45780944824219\n[INFO] Starting epoch 6\n[INFO] Loss at step 0: 40.493648529052734\n[INFO] Starting epoch 7\n[INFO] Loss at step 0: 57.15752029418945\n[INFO] Starting epoch 8\n[INFO] Loss at step 0: 29.602497100830078\n[INFO] Starting epoch 9\n[INFO] Loss at step 0: 22.47392463684082\n[INFO] Starting epoch 10\n[INFO] Loss at step 0: 20.718765258789062\n[INFO] Starting epoch 11\n[INFO] Loss at step 0: 12.054939270019531\n[INFO] Starting epoch 12\n[INFO] Loss at step 0: 5.797328472137451\n[INFO] Starting epoch 13\n[INFO] Loss at step 0: 5.908519744873047\n[INFO] Starting epoch 14\n[INFO] Loss at step 0: 5.344995975494385\n[INFO] Starting epoch 15\n[INFO] Loss at step 0: 6.4965362548828125\n[INFO] Starting epoch 16\n[INFO] Loss at step 0: 3.3128058910369873\n[INFO] Starting epoch 17\n[INFO] Loss at step 0: 2.989652633666992\n[INFO] Starting epoch 18\n[INFO] Loss at step 0: 3.1942811012268066\n[INFO] Starting epoch 19\n[INFO] Loss at step 0: 1.3002417087554932\n[INFO] Starting epoch 20\n[INFO] Loss at step 0: 1.9924020767211914\n[INFO] Starting epoch 21\n[INFO] Loss at step 0: 1.9011701345443726\n[INFO] Starting epoch 22\n[INFO] Loss at step 0: 1.3478443622589111\n[INFO] Starting epoch 23\n[INFO] Loss at step 0: 0.2742188274860382\n[INFO] Starting epoch 24\n[INFO] Loss at step 0: 0.7996300458908081\n[INFO] Starting epoch 25\n[INFO] Loss at step 0: 2.57893705368042\n[INFO] Starting epoch 26\n[INFO] Loss at step 0: 0.4603540003299713\n[INFO] Starting epoch 27\n[INFO] Loss at step 0: 1.6843328475952148\n[INFO] Starting epoch 28\n[INFO] Loss at step 0: 1.9737640619277954\n[INFO] Starting epoch 29\n[INFO] Loss at step 0: 1.0415526628494263\n[INFO] Starting epoch 30\n[INFO] Loss at step 0: 1.4246485233306885\n[INFO] Starting epoch 31\n[INFO] Loss at step 0: 0.7503674626350403\n[INFO] Starting epoch 32\n[INFO] Loss at step 0: 1.5553100109100342\n[INFO] Starting epoch 33\n[INFO] Loss at step 0: 0.20929336547851562\n[INFO] Starting epoch 34\n[INFO] Loss at step 0: 0.3979185223579407\n"
     ]
    },
    {
     "name": "stdout",
     "output_type": "stream",
     "text": [
      "[INFO] Starting epoch 35\n[INFO] Loss at step 0: 1.8382459878921509\n[INFO] Starting epoch 36\n[INFO] Loss at step 0: 0.42135682702064514\n[INFO] Starting epoch 37\n[INFO] Loss at step 0: 1.2868313789367676\n[INFO] Starting epoch 38\n[INFO] Loss at step 0: 1.6082706451416016\n[INFO] Starting epoch 39\n[INFO] Loss at step 0: 0.5982078313827515\n[INFO] Starting epoch 40\n[INFO] Loss at step 0: 1.115146279335022\n[INFO] Starting epoch 41\n[INFO] Loss at step 0: 0.7623821496963501\n[INFO] Starting epoch 42\n[INFO] Loss at step 0: 1.119942545890808\n[INFO] Starting epoch 43\n[INFO] Loss at step 0: 0.9253376722335815\n[INFO] Starting epoch 44\n[INFO] Loss at step 0: 0.6657480597496033\n[INFO] Starting epoch 45\n[INFO] Loss at step 0: 0.733609676361084\n[INFO] Starting epoch 46\n[INFO] Loss at step 0: 1.1765916347503662\n[INFO] Starting epoch 47\n[INFO] Loss at step 0: 2.3074824810028076\n[INFO] Starting epoch 48\n[INFO] Loss at step 0: 1.1137111186981201\n[INFO] Starting epoch 49\n[INFO] Loss at step 0: 2.528787136077881\n[INFO] Starting epoch 50\n[INFO] Loss at step 0: 1.3502038717269897\n[INFO] Starting epoch 51\n[INFO] Loss at step 0: 1.3950507640838623\n[INFO] Starting epoch 52\n[INFO] Loss at step 0: 0.2976604402065277\n[INFO] Starting epoch 53\n[INFO] Loss at step 0: 0.7948618531227112\n[INFO] Starting epoch 54\n[INFO] Loss at step 0: 1.3692455291748047\n[INFO] Starting epoch 55\n[INFO] Loss at step 0: 0.9967945218086243\n[INFO] Starting epoch 56\n[INFO] Loss at step 0: 1.3994652032852173\n[INFO] Starting epoch 57\n[INFO] Loss at step 0: 1.2978010177612305\n[INFO] Starting epoch 58\n[INFO] Loss at step 0: 0.97650545835495\n[INFO] Starting epoch 59\n[INFO] Loss at step 0: 0.6505473852157593\n[INFO] Starting epoch 60\n[INFO] Loss at step 0: 0.33942273259162903\n[INFO] Starting epoch 61\n[INFO] Loss at step 0: 0.8492774963378906\n[INFO] Starting epoch 62\n[INFO] Loss at step 0: 0.7212310433387756\n[INFO] Starting epoch 63\n[INFO] Loss at step 0: 1.2273213863372803\n[INFO] Starting epoch 64\n[INFO] Loss at step 0: 0.4778059124946594\n[INFO] Starting epoch 65\n[INFO] Loss at step 0: 1.2114524841308594\n[INFO] Starting epoch 66\n[INFO] Loss at step 0: 1.0381503105163574\n[INFO] Starting epoch 67\n[INFO] Loss at step 0: 1.2304096221923828\n"
     ]
    },
    {
     "name": "stdout",
     "output_type": "stream",
     "text": [
      "[INFO] Starting epoch 68\n[INFO] Loss at step 0: 0.5194608569145203\n[INFO] Starting epoch 69\n[INFO] Loss at step 0: 1.2160893678665161\n[INFO] Starting epoch 70\n[INFO] Loss at step 0: 0.19496949017047882\n[INFO] Starting epoch 71\n[INFO] Loss at step 0: 1.569798469543457\n[INFO] Starting epoch 72\n[INFO] Loss at step 0: 0.711682915687561\n[INFO] Starting epoch 73\n[INFO] Loss at step 0: 0.5142080783843994\n[INFO] Starting epoch 74\n[INFO] Loss at step 0: 0.7309017181396484\n[INFO] Starting epoch 75\n[INFO] Loss at step 0: 1.1554571390151978\n[INFO] Starting epoch 76\n[INFO] Loss at step 0: 0.768258810043335\n[INFO] Starting epoch 77\n[INFO] Loss at step 0: 1.3205249309539795\n[INFO] Starting epoch 78\n[INFO] Loss at step 0: 0.8266788721084595\n[INFO] Starting epoch 79\n[INFO] Loss at step 0: 0.5578247904777527\n[INFO] Starting epoch 80\n[INFO] Loss at step 0: 0.6673489212989807\n[INFO] Starting epoch 81\n[INFO] Loss at step 0: 2.00838303565979\n[INFO] Starting epoch 82\n[INFO] Loss at step 0: 1.061743140220642\n[INFO] Starting epoch 83\n[INFO] Loss at step 0: 2.230013608932495\n[INFO] Starting epoch 84\n[INFO] Loss at step 0: 1.8073596954345703\n[INFO] Starting epoch 85\n[INFO] Loss at step 0: 1.9664396047592163\n[INFO] Starting epoch 86\n[INFO] Loss at step 0: 2.2828609943389893\n[INFO] Starting epoch 87\n[INFO] Loss at step 0: 0.49791938066482544\n[INFO] Starting epoch 88\n[INFO] Loss at step 0: 0.9163200259208679\n[INFO] Starting epoch 89\n[INFO] Loss at step 0: 1.175574541091919\n[INFO] Starting epoch 90\n[INFO] Loss at step 0: 0.7353969812393188\n[INFO] Starting epoch 91\n[INFO] Loss at step 0: 0.7946044206619263\n[INFO] Starting epoch 92\n[INFO] Loss at step 0: 0.8423727750778198\n[INFO] Starting epoch 93\n[INFO] Loss at step 0: 1.3969461917877197\n[INFO] Starting epoch 94\n[INFO] Loss at step 0: 0.9968158602714539\n[INFO] Starting epoch 95\n[INFO] Loss at step 0: 1.0574452877044678\n[INFO] Starting epoch 96\n[INFO] Loss at step 0: 0.6458406448364258\n[INFO] Starting epoch 97\n[INFO] Loss at step 0: 0.9325043559074402\n[INFO] Starting epoch 98\n[INFO] Loss at step 0: 0.7986174821853638\n[INFO] Starting epoch 99\n[INFO] Loss at step 0: 0.9231346249580383\n"
     ]
    },
    {
     "data": {
      "text/plain": [
       "'/Users/patrickmedina/Desktop/regression/model-891'"
      ]
     },
     "execution_count": 5,
     "metadata": {},
     "output_type": "execute_result"
    }
   ],
   "source": [
    "import numpy as np\n",
    "\n",
    "reg_saver.save(sess, \"/Users/patrickmedina/Desktop/regression_2/model\", 0)\n",
    "    \n",
    "# generate the data\n",
    "x = np.random.normal(size=(100, )).astype(np.float32)\n",
    "y = 10 * x + 5 + np.random.normal(size=(100, )).astype(np.float32)\n",
    "\n",
    "for ep in range(100):\n",
    "    print(\"[INFO] Starting epoch {}\".format(ep))\n",
    "    idx = np.arange(100)\n",
    "    np.random.shuffle(idx)\n",
    "    x = x[idx]\n",
    "    y = y[idx]\n",
    "\n",
    "    for i in range(10):\n",
    "        start = 10 * i\n",
    "        stop = start + 10\n",
    "        feed_dict = {tf_x:x[start:stop], tf_y:y[start:stop]}\n",
    "        \n",
    "        l, _ = sess.run([loss, ts], feed_dict=feed_dict)\n",
    "\n",
    "        if i % 10 == 0:\n",
    "            print(\"[INFO] Loss at step {0}: {1}\".format(i, l))\n",
    "\n",
    "reg_saver.save(sess, \"/Users/patrickmedina/Desktop/regression_2/model\", ep * i)\n",
    "\n",
    "sess.close()"
   ]
  },
  {
   "cell_type": "code",
   "execution_count": 15,
   "metadata": {},
   "outputs": [
    {
     "name": "stdout",
     "output_type": "stream",
     "text": [
      "Tensor(\"a:0\", shape=(), dtype=float32_ref)\nTensor(\"b:0\", shape=(), dtype=float32_ref)\n"
     ]
    }
   ],
   "source": [
    "a = graph.get_tensor_by_name(\"a:0\")\n",
    "b = graph.get_tensor_by_name(\"b:0\")\n",
    "\n",
    "print(a)\n",
    "print(b)"
   ]
  },
  {
   "cell_type": "code",
   "execution_count": 16,
   "metadata": {},
   "outputs": [
    {
     "data": {
      "text/plain": [
       "[6.1656513, 2.1693344, 1.6297995, 1.5964162]"
      ]
     },
     "execution_count": 16,
     "metadata": {},
     "output_type": "execute_result"
    }
   ],
   "source": [
    "sess.run([a, b, a_1, b_1])"
   ]
  },
  {
   "cell_type": "markdown",
   "metadata": {},
   "source": [
    "We see that things got foobar..."
   ]
  },
  {
   "cell_type": "code",
   "execution_count": 17,
   "metadata": {},
   "outputs": [],
   "source": [
    "sess.close()"
   ]
  },
  {
   "cell_type": "code",
   "execution_count": null,
   "metadata": {},
   "outputs": [],
   "source": []
  }
 ],
 "metadata": {
  "kernelspec": {
   "display_name": "Python 2",
   "language": "python",
   "name": "python2"
  },
  "language_info": {
   "codemirror_mode": {
    "name": "ipython",
    "version": 2
   },
   "file_extension": ".py",
   "mimetype": "text/x-python",
   "name": "python",
   "nbconvert_exporter": "python",
   "pygments_lexer": "ipython2",
   "version": "2.7.6"
  }
 },
 "nbformat": 4,
 "nbformat_minor": 0
}
